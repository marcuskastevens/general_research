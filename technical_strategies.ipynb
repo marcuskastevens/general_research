{
 "cells": [
  {
   "cell_type": "code",
   "execution_count": 1,
   "metadata": {},
   "outputs": [],
   "source": [
    "import pandas as pd\n",
    "import numpy as np\n",
    "import matplotlib.pyplot as plt\n",
    "\n",
    "import yfinance as yf\n",
    "from pandas.tseries.offsets import BDay\n",
    "\n",
    "import backtest_tools.portfolio_tools as backtest_tools\n",
    "import backtest_tools.data_cleaning_tools as cleaning\n",
    "import pickle"
   ]
  },
  {
   "cell_type": "code",
   "execution_count": 5,
   "metadata": {},
   "outputs": [],
   "source": [
    "import pandas_ta as ta"
   ]
  },
  {
   "cell_type": "code",
   "execution_count": 266,
   "metadata": {},
   "outputs": [],
   "source": [
    "path = r'C:\\Users\\marcu\\Documents\\Quant\\Programming\\Data\\russell_300_returns.pickle'\n",
    "with open(path, 'rb') as reader:\n",
    "    tickers = pickle.load(reader).columns"
   ]
  },
  {
   "cell_type": "code",
   "execution_count": 267,
   "metadata": {},
   "outputs": [
    {
     "data": {
      "text/plain": [
       "Index(['AAPL', 'MSFT', 'AMZN', 'GOOGL', 'GOOG', 'NVDA', 'XOM', 'TSLA', 'UNH',\n",
       "       'JNJ',\n",
       "       ...\n",
       "       'TUP', 'RLMD', 'DHC', 'INSG', 'VXRT', 'EGIO', 'TTCF', 'YMAB', 'EIGR',\n",
       "       'GOSS'],\n",
       "      dtype='object', length=2257)"
      ]
     },
     "execution_count": 267,
     "metadata": {},
     "output_type": "execute_result"
    }
   ],
   "source": [
    "tickers"
   ]
  },
  {
   "cell_type": "code",
   "execution_count": 273,
   "metadata": {},
   "outputs": [
    {
     "name": "stdout",
     "output_type": "stream",
     "text": [
      "[*********************100%***********************]  1 of 1 completed\n"
     ]
    }
   ],
   "source": [
    "data = yf.download('AAPL', start='1995-01-01', end='2023-02-11')"
   ]
  },
  {
   "cell_type": "code",
   "execution_count": 608,
   "metadata": {},
   "outputs": [],
   "source": [
    "def strategy(data, ticker):\n",
    "    data['RSI'] = ta.rsi(data['Adj Close'])\n",
    "    data['200_EMA'] = ta.ema(data['Adj Close'], length=200)\n",
    "    data['50_EMA'] = ta.ema(data['Adj Close'], length=50)\n",
    "    data['Open Pct Change'] = data['Open'].pct_change() \n",
    "    data['Close Pct Change'] = data['Adj Close'] / data['Adj Close'].shift(1) -1\n",
    "\n",
    "    # data['Longs'] = np.where((data['RSI'] < 30) & (data['Adj Close'] > data['200_EMA']), 1, 0)\n",
    "    # data['Shorts']  = np.where((data['RSI'] > 70) & (data['Adj Close'] < data['200_EMA']), -1, 0)\n",
    "\n",
    "    data['Longs'] = np.where((data['Adj Close'] >= data['200_EMA']) & (data['Adj Close'] > data['50_EMA']), -1, 0) # & (data['Adj Close'] > data['50_EMA'])\n",
    "    data['Longs'] = data['Longs'].shift(2)\n",
    "    data['Shorts']  = np.where((data['Adj Close'] < data['200_EMA']) & (data['Adj Close'] < data['50_EMA']), 1, 0) #  & (data['Adj Close'] < data['50_EMA'])\n",
    "    data['Shorts'] = data['Shorts'].shift(2)\n",
    "    \n",
    "    #data['Positions'] = data['Longs'].join(data['Shorts']) # pd.concat([data['Longs'], data['Shorts']])\n",
    "    data['Positions'] = data['Longs'] + data['Shorts']\n",
    "    #data['Positions'] = np.where(data['Adj Close'] >= data['200_EMA'], 1, -1)\n",
    "    \n",
    "    strategy_returns = pd.Series(data['Open Pct Change'] * data['Positions'], name=ticker)\n",
    "\n",
    "    return strategy_returns\n",
    "\n",
    "    # get dates in which we are long (buy)\n",
    "    # buy_dates_index = np.where(data['Longs']>0)[0] + 2\n",
    "    # short_dates_index = np.where(data['Shorts']<0)[0] + 2\n",
    "\n",
    "    # sell_dates = []\n",
    "    # for i in buy_dates_index:\n",
    "        # for j in range(0, 11):\n",
    "            # if data['RSI'].iloc[i + j] < 40 & j != 10:\n",
    "        # if data['200_EMA'].iloc[i] < data['Adj Close']:\n",
    "        #     np.append(buy_dates_index, i + j + 1)\n",
    "\n",
    "    # data['Buy'] = pd.Series(index=data.index)\n",
    "    # data['Buy'].iloc[buy_dates_index] = np.ones(buy_dates_index.shape[0])\n",
    "\n",
    "    # data['Sell'] = pd.Series(index=data.index)\n",
    "    # data['Sell'].iloc[short_dates_index] = np.ones(short_dates_index.shape[0])*-1"
   ]
  },
  {
   "cell_type": "code",
   "execution_count": 609,
   "metadata": {},
   "outputs": [
    {
     "name": "stdout",
     "output_type": "stream",
     "text": [
      "[*********************100%***********************]  1 of 1 completed\n",
      "[*********************100%***********************]  1 of 1 completed\n",
      "[*********************100%***********************]  1 of 1 completed\n",
      "[*********************100%***********************]  1 of 1 completed\n",
      "[*********************100%***********************]  1 of 1 completed\n",
      "[*********************100%***********************]  1 of 1 completed\n",
      "[*********************100%***********************]  1 of 1 completed\n",
      "[*********************100%***********************]  1 of 1 completed\n",
      "[*********************100%***********************]  1 of 1 completed\n",
      "[*********************100%***********************]  1 of 1 completed\n",
      "[*********************100%***********************]  1 of 1 completed\n",
      "[*********************100%***********************]  1 of 1 completed\n",
      "[*********************100%***********************]  1 of 1 completed\n",
      "[*********************100%***********************]  1 of 1 completed\n",
      "[*********************100%***********************]  1 of 1 completed\n",
      "[*********************100%***********************]  1 of 1 completed\n",
      "[*********************100%***********************]  1 of 1 completed\n",
      "[*********************100%***********************]  1 of 1 completed\n",
      "[*********************100%***********************]  1 of 1 completed\n",
      "[*********************100%***********************]  1 of 1 completed\n",
      "[*********************100%***********************]  1 of 1 completed\n",
      "[*********************100%***********************]  1 of 1 completed\n",
      "[*********************100%***********************]  1 of 1 completed\n",
      "[*********************100%***********************]  1 of 1 completed\n",
      "[*********************100%***********************]  1 of 1 completed\n",
      "[*********************100%***********************]  1 of 1 completed\n",
      "[*********************100%***********************]  1 of 1 completed\n",
      "[*********************100%***********************]  1 of 1 completed\n",
      "[*********************100%***********************]  1 of 1 completed\n",
      "[*********************100%***********************]  1 of 1 completed\n",
      "[*********************100%***********************]  1 of 1 completed\n",
      "[*********************100%***********************]  1 of 1 completed\n",
      "[*********************100%***********************]  1 of 1 completed\n",
      "[*********************100%***********************]  1 of 1 completed\n",
      "[*********************100%***********************]  1 of 1 completed\n",
      "[*********************100%***********************]  1 of 1 completed\n",
      "[*********************100%***********************]  1 of 1 completed\n",
      "[*********************100%***********************]  1 of 1 completed\n",
      "[*********************100%***********************]  1 of 1 completed\n",
      "[*********************100%***********************]  1 of 1 completed\n",
      "[*********************100%***********************]  1 of 1 completed\n",
      "[*********************100%***********************]  1 of 1 completed\n",
      "[*********************100%***********************]  1 of 1 completed\n",
      "[*********************100%***********************]  1 of 1 completed\n",
      "[*********************100%***********************]  1 of 1 completed\n",
      "[*********************100%***********************]  1 of 1 completed\n",
      "[*********************100%***********************]  1 of 1 completed\n",
      "[*********************100%***********************]  1 of 1 completed\n",
      "[*********************100%***********************]  1 of 1 completed\n",
      "[*********************100%***********************]  1 of 1 completed\n",
      "[*********************100%***********************]  1 of 1 completed\n",
      "[*********************100%***********************]  1 of 1 completed\n",
      "[*********************100%***********************]  1 of 1 completed\n",
      "[*********************100%***********************]  1 of 1 completed\n",
      "[*********************100%***********************]  1 of 1 completed\n",
      "[*********************100%***********************]  1 of 1 completed\n",
      "[*********************100%***********************]  1 of 1 completed\n",
      "[*********************100%***********************]  1 of 1 completed\n",
      "[*********************100%***********************]  1 of 1 completed\n",
      "[*********************100%***********************]  1 of 1 completed\n",
      "[*********************100%***********************]  1 of 1 completed\n",
      "[*********************100%***********************]  1 of 1 completed\n",
      "[*********************100%***********************]  1 of 1 completed\n",
      "[*********************100%***********************]  1 of 1 completed\n",
      "[*********************100%***********************]  1 of 1 completed\n",
      "[*********************100%***********************]  1 of 1 completed\n",
      "[*********************100%***********************]  1 of 1 completed\n",
      "[*********************100%***********************]  1 of 1 completed\n",
      "[*********************100%***********************]  1 of 1 completed\n",
      "[*********************100%***********************]  1 of 1 completed\n",
      "[*********************100%***********************]  1 of 1 completed\n",
      "[*********************100%***********************]  1 of 1 completed\n",
      "[*********************100%***********************]  1 of 1 completed\n",
      "[*********************100%***********************]  1 of 1 completed\n",
      "[*********************100%***********************]  1 of 1 completed\n",
      "[*********************100%***********************]  1 of 1 completed\n",
      "[*********************100%***********************]  1 of 1 completed\n",
      "[*********************100%***********************]  1 of 1 completed\n",
      "[*********************100%***********************]  1 of 1 completed\n",
      "[*********************100%***********************]  1 of 1 completed\n",
      "[*********************100%***********************]  1 of 1 completed\n",
      "[*********************100%***********************]  1 of 1 completed\n",
      "[*********************100%***********************]  1 of 1 completed\n",
      "[*********************100%***********************]  1 of 1 completed\n",
      "[*********************100%***********************]  1 of 1 completed\n",
      "[*********************100%***********************]  1 of 1 completed\n",
      "[*********************100%***********************]  1 of 1 completed\n",
      "[*********************100%***********************]  1 of 1 completed\n",
      "[*********************100%***********************]  1 of 1 completed\n",
      "[*********************100%***********************]  1 of 1 completed\n",
      "[*********************100%***********************]  1 of 1 completed\n",
      "[*********************100%***********************]  1 of 1 completed\n",
      "[*********************100%***********************]  1 of 1 completed\n",
      "[*********************100%***********************]  1 of 1 completed\n",
      "[*********************100%***********************]  1 of 1 completed\n",
      "[*********************100%***********************]  1 of 1 completed\n",
      "[*********************100%***********************]  1 of 1 completed\n",
      "[*********************100%***********************]  1 of 1 completed\n",
      "[*********************100%***********************]  1 of 1 completed\n",
      "[*********************100%***********************]  1 of 1 completed\n"
     ]
    }
   ],
   "source": [
    "strategy_returns = {}\n",
    "\n",
    "for ticker in tickers[-100:]:\n",
    "    data = yf.download(ticker, start='1995-01-01', end='2023-02-11')\n",
    "    try:\n",
    "        strategy_returns[ticker] = strategy(data, ticker)\n",
    "    except:\n",
    "        pass"
   ]
  },
  {
   "cell_type": "code",
   "execution_count": 610,
   "metadata": {},
   "outputs": [
    {
     "data": {
      "text/plain": [
       "<AxesSubplot:xlabel='Date'>"
      ]
     },
     "execution_count": 610,
     "metadata": {},
     "output_type": "execute_result"
    },
    {
     "data": {
      "image/png": "[encoded data removed]",
      "text/plain": [
       "<Figure size 432x288 with 1 Axes>"
      ]
     },
     "metadata": {
      "needs_background": "light"
     },
     "output_type": "display_data"
    }
   ],
   "source": [
    "tmp_strategy_returns = pd.DataFrame(strategy_returns).apply(apply_function).sum(1)\n",
    "backtest_tools.cumulative_returns(tmp_strategy_returns).plot()"
   ]
  },
  {
   "cell_type": "code",
   "execution_count": 611,
   "metadata": {},
   "outputs": [
    {
     "data": {
      "text/plain": [
       "Sharpe Ratio                      0.244994\n",
       "Drift Adjusted Sharpe Ratio       0.077145\n",
       "CAGR                              0.002983\n",
       "Vol                               0.012462\n",
       "Sortino Ratio                     0.987078\n",
       "Martin (Ulcer) Ratio              0.000536\n",
       "Omega Ratio                       0.082714\n",
       "RR Ratio                          1.250030\n",
       "Win Rate                          0.514759\n",
       "Skew                             74.039343\n",
       "Kurtosis                       5967.211965\n",
       "Max Drawdown                     -0.020252\n",
       "VaR - Laplace                    -0.002940\n",
       "CVaR - Laplace                   -0.003665\n",
       "dtype: float64"
      ]
     },
     "execution_count": 611,
     "metadata": {},
     "output_type": "execute_result"
    }
   ],
   "source": [
    "backtest_tools.performance_summary(tmp_strategy_returns)"
   ]
  },
  {
   "cell_type": "code",
   "execution_count": 359,
   "metadata": {},
   "outputs": [
    {
     "data": {
      "text/plain": [
       "<AxesSubplot:xlabel='Date'>"
      ]
     },
     "execution_count": 359,
     "metadata": {},
     "output_type": "execute_result"
    },
    {
     "data": {
      "image/png": "[encoded data removed]",
      "text/plain": [
       "<Figure size 432x288 with 1 Axes>"
      ]
     },
     "metadata": {
      "needs_background": "light"
     },
     "output_type": "display_data"
    }
   ],
   "source": [
    "def apply_function(returns):\n",
    "    return returns / returns.dropna().shape[0]\n",
    "\n",
    "backtest_tools.cumulative_returns(pd.DataFrame(strategy_returns).apply(apply_function).sum(1)).plot()"
   ]
  },
  {
   "cell_type": "code",
   "execution_count": 358,
   "metadata": {},
   "outputs": [
    {
     "data": {
      "text/plain": [
       "Sharpe Ratio                     0.278783\n",
       "Drift Adjusted Sharpe Ratio      0.034588\n",
       "CAGR                             0.035765\n",
       "Vol                              0.188454\n",
       "Sortino Ratio                    0.436839\n",
       "Martin (Ulcer) Ratio             0.000189\n",
       "Omega Ratio                      0.948738\n",
       "RR Ratio                         1.228537\n",
       "Win Rate                         0.518519\n",
       "Skew                             3.683555\n",
       "Kurtosis                       143.621458\n",
       "Max Drawdown                    -0.629315\n",
       "VaR - Laplace                   -0.047892\n",
       "CVaR - Laplace                  -0.061047\n",
       "dtype: float64"
      ]
     },
     "execution_count": 358,
     "metadata": {},
     "output_type": "execute_result"
    }
   ],
   "source": [
    "backtest_tools.performance_summary(pd.DataFrame(strategy_returns).sum(1))"
   ]
  },
  {
   "cell_type": "code",
   "execution_count": 309,
   "metadata": {},
   "outputs": [
    {
     "data": {
      "text/plain": [
       "9.022604949039682"
      ]
     },
     "execution_count": 309,
     "metadata": {},
     "output_type": "execute_result"
    }
   ],
   "source": [
    "strategy_returns.sum()"
   ]
  },
  {
   "cell_type": "code",
   "execution_count": 313,
   "metadata": {},
   "outputs": [
    {
     "data": {
      "text/plain": [
       "Sharpe Ratio                    -0.267759\n",
       "Drift Adjusted Sharpe Ratio     -0.053382\n",
       "CAGR                            -0.047879\n",
       "Vol                              0.143590\n",
       "Sortino Ratio                   -0.344503\n",
       "Martin (Ulcer) Ratio            -0.000041\n",
       "Omega Ratio                      0.549653\n",
       "RR Ratio                         0.772711\n",
       "Win Rate                         0.432526\n",
       "Skew                            -3.608200\n",
       "Kurtosis                       171.109888\n",
       "Max Drawdown                    -0.785942\n",
       "VaR - Laplace                   -0.036959\n",
       "CVaR - Laplace                  -0.046194\n",
       "dtype: float64"
      ]
     },
     "execution_count": 313,
     "metadata": {},
     "output_type": "execute_result"
    },
    {
     "data": {
      "image/png": "[encoded data removed]",
      "text/plain": [
       "<Figure size 432x288 with 1 Axes>"
      ]
     },
     "metadata": {
      "needs_background": "light"
     },
     "output_type": "display_data"
    }
   ],
   "source": [
    "backtest_tools.cumulative_returns(strategy_returns).plot()\n",
    "backtest_tools.performance_summary(strategy_returns)"
   ]
  },
  {
   "cell_type": "code",
   "execution_count": null,
   "metadata": {},
   "outputs": [],
   "source": []
  },
  {
   "cell_type": "code",
   "execution_count": null,
   "metadata": {},
   "outputs": [],
   "source": []
  },
  {
   "cell_type": "code",
   "execution_count": null,
   "metadata": {},
   "outputs": [],
   "source": []
  },
  {
   "cell_type": "code",
   "execution_count": null,
   "metadata": {},
   "outputs": [],
   "source": []
  },
  {
   "cell_type": "code",
   "execution_count": null,
   "metadata": {},
   "outputs": [],
   "source": []
  },
  {
   "cell_type": "code",
   "execution_count": null,
   "metadata": {},
   "outputs": [],
   "source": []
  },
  {
   "cell_type": "code",
   "execution_count": null,
   "metadata": {},
   "outputs": [],
   "source": []
  },
  {
   "cell_type": "code",
   "execution_count": null,
   "metadata": {},
   "outputs": [],
   "source": []
  },
  {
   "cell_type": "code",
   "execution_count": null,
   "metadata": {},
   "outputs": [],
   "source": []
  },
  {
   "cell_type": "code",
   "execution_count": null,
   "metadata": {},
   "outputs": [],
   "source": []
  },
  {
   "cell_type": "code",
   "execution_count": 278,
   "metadata": {},
   "outputs": [
    {
     "data": {
      "text/plain": [
       "<AxesSubplot:xlabel='Date'>"
      ]
     },
     "execution_count": 278,
     "metadata": {},
     "output_type": "execute_result"
    },
    {
     "data": {
      "image/png": "[encoded data removed]",
      "text/plain": [
       "<Figure size 432x288 with 1 Axes>"
      ]
     },
     "metadata": {
      "needs_background": "light"
     },
     "output_type": "display_data"
    }
   ],
   "source": [
    "plt.scatter(data['Close'].iloc[np.where(data['Shorts']<0)].index, data['Close'].iloc[np.where(data['Shorts']<0)], marker='^', c='r')\n",
    "plt.scatter(data['Close'].iloc[np.where(data['Longs']>0)].index, data['Close'].iloc[np.where(data['Longs']>0)], marker='^', c='g')\n",
    "data.Close.plot()"
   ]
  },
  {
   "cell_type": "code",
   "execution_count": null,
   "metadata": {},
   "outputs": [],
   "source": []
  },
  {
   "cell_type": "code",
   "execution_count": null,
   "metadata": {},
   "outputs": [],
   "source": []
  },
  {
   "cell_type": "code",
   "execution_count": null,
   "metadata": {},
   "outputs": [],
   "source": []
  },
  {
   "cell_type": "code",
   "execution_count": null,
   "metadata": {},
   "outputs": [],
   "source": []
  },
  {
   "cell_type": "code",
   "execution_count": null,
   "metadata": {},
   "outputs": [],
   "source": []
  }
 ],
 "metadata": {
  "kernelspec": {
   "display_name": "Python 3",
   "language": "python",
   "name": "python3"
  },
  "language_info": {
   "codemirror_mode": {
    "name": "ipython",
    "version": 3
   },
   "file_extension": ".py",
   "mimetype": "text/x-python",
   "name": "python",
   "nbconvert_exporter": "python",
   "pygments_lexer": "ipython3",
   "version": "3.7.9 (tags/v3.7.9:13c94747c7, Aug 17 2020, 16:30:00) [MSC v.1900 64 bit (AMD64)]"
  },
  "orig_nbformat": 4,
  "vscode": {
   "interpreter": {
    "hash": "77dd742b113c4241fb4f708542db02ed4da28a8bf812b8fffe8c7b9768f0c9c1"
   }
  }
 },
 "nbformat": 4,
 "nbformat_minor": 2
}
